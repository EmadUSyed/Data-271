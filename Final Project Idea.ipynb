{
 "cells": [
  {
   "cell_type": "markdown",
   "id": "f7021fe9-6e2b-448e-a280-5e7a002a5e34",
   "metadata": {},
   "source": [
    "# **STUDY OF THE STARS AND EXPLORATORY DATA ANALYSIS OF THE STARS**"
   ]
  },
  {
   "cell_type": "markdown",
   "id": "68e023dc-3ad2-4d2d-9b6e-bb2aae2c7e0d",
   "metadata": {},
   "source": [
    "The Study of stars is a very popular study in our world. In this vast expanse of universe, there are millions and millions of stars and galaxies that remain undiscovered. This project is a simple study of stars. Their properties which make them different from each other like radius, color and temperature. "
   ]
  },
  {
   "cell_type": "markdown",
   "id": "a530ed5c-165c-4a95-ac31-7e58dbce7789",
   "metadata": {},
   "source": [
    "**Question 1**\n",
    "\n",
    "Finding the differences between the radius multiple star types.\n",
    "\n",
    "**Question 2**\n",
    "\n",
    "FInding the distance between the large star types and earth, and their common similarities."
   ]
  },
  {
   "cell_type": "markdown",
   "id": "63b4c8d7-e518-475e-ad34-1460e1e72fb5",
   "metadata": {},
   "source": [
    "#### VIDEOS AND BACKGROUND READING\n"
   ]
  },
  {
   "cell_type": "markdown",
   "id": "3800b137-df34-4b0e-85f0-978f6db428d0",
   "metadata": {},
   "source": [
    "https://www.youtube.com/watch?v=XxvZQAkslNI&list=PL3jLiVc5sr3P7Uov0VFsEfwPOEG1rF-FO\n",
    "\n",
    "https://www.youtube.com/watch?v=H9KefzbryEw&t=6388s&pp=ygUSQXN0cm9ub21pY2FsIGRhdGEg\n",
    "\n",
    "https://www.youtube.com/watch?v=q7prQTS_N3Y&list=PLRefBiOX26xdhbuEIVTo-mP2aB4g6ffdR"
   ]
  },
  {
   "cell_type": "markdown",
   "id": "3daf85c9-648c-4138-a60f-3fdc2411ff18",
   "metadata": {},
   "source": [
    "**Imported Libraries**"
   ]
  },
  {
   "cell_type": "code",
   "execution_count": 2,
   "id": "34b5f594-7eb6-457d-8378-bd52284eef93",
   "metadata": {
    "tags": []
   },
   "outputs": [],
   "source": [
    "import os\n",
    "import pandas as pd\n",
    "import numpy as np\n",
    "import seaborn as sns\n",
    "import matplotlib.pyplot as plt"
   ]
  },
  {
   "cell_type": "markdown",
   "id": "6e54651f-f849-49a3-9170-a201bebeaa9a",
   "metadata": {
    "tags": []
   },
   "source": [
    "**Potential Datasets**\n",
    "\n",
    "https://www.kaggle.com/datasets/thedevastator/properties-of-stars-in-our-galaxy?resource=download\n",
    "\n",
    "cleaned_star_data.csv"
   ]
  },
  {
   "cell_type": "code",
   "execution_count": 27,
   "id": "09281115-7e3f-4299-9401-ffe01d1cf87a",
   "metadata": {
    "tags": []
   },
   "outputs": [
    {
     "data": {
      "text/html": [
       "<div>\n",
       "<style scoped>\n",
       "    .dataframe tbody tr th:only-of-type {\n",
       "        vertical-align: middle;\n",
       "    }\n",
       "\n",
       "    .dataframe tbody tr th {\n",
       "        vertical-align: top;\n",
       "    }\n",
       "\n",
       "    .dataframe thead th {\n",
       "        text-align: right;\n",
       "    }\n",
       "</style>\n",
       "<table border=\"1\" class=\"dataframe\">\n",
       "  <thead>\n",
       "    <tr style=\"text-align: right;\">\n",
       "      <th></th>\n",
       "      <th>Unnamed: 0</th>\n",
       "      <th>Star_name</th>\n",
       "      <th>Distance</th>\n",
       "      <th>Mass</th>\n",
       "      <th>Radius</th>\n",
       "      <th>Luminosity</th>\n",
       "    </tr>\n",
       "  </thead>\n",
       "  <tbody>\n",
       "    <tr>\n",
       "      <th>0</th>\n",
       "      <td>0</td>\n",
       "      <td>Sun</td>\n",
       "      <td>0.000015813</td>\n",
       "      <td>1</td>\n",
       "      <td>1</td>\n",
       "      <td>1</td>\n",
       "    </tr>\n",
       "    <tr>\n",
       "      <th>1</th>\n",
       "      <td>1</td>\n",
       "      <td>Sirius</td>\n",
       "      <td>0008.6</td>\n",
       "      <td>2.1</td>\n",
       "      <td>1.71Â´</td>\n",
       "      <td>25.4</td>\n",
       "    </tr>\n",
       "    <tr>\n",
       "      <th>2</th>\n",
       "      <td>2</td>\n",
       "      <td>Canopus</td>\n",
       "      <td>0310</td>\n",
       "      <td>15</td>\n",
       "      <td>71</td>\n",
       "      <td>13,500</td>\n",
       "    </tr>\n",
       "    <tr>\n",
       "      <th>3</th>\n",
       "      <td>3</td>\n",
       "      <td>Alpha Centauri</td>\n",
       "      <td>0004.4</td>\n",
       "      <td>1.1</td>\n",
       "      <td>1.2</td>\n",
       "      <td>2</td>\n",
       "    </tr>\n",
       "    <tr>\n",
       "      <th>4</th>\n",
       "      <td>4</td>\n",
       "      <td>Arcturus</td>\n",
       "      <td>0037</td>\n",
       "      <td>1.1</td>\n",
       "      <td>26</td>\n",
       "      <td>170</td>\n",
       "    </tr>\n",
       "  </tbody>\n",
       "</table>\n",
       "</div>"
      ],
      "text/plain": [
       "   Unnamed: 0       Star_name     Distance Mass  Radius Luminosity\n",
       "0           0             Sun  0.000015813    1       1          1\n",
       "1           1          Sirius       0008.6  2.1  1.71Â´       25.4\n",
       "2           2         Canopus         0310   15      71     13,500\n",
       "3           3  Alpha Centauri       0004.4  1.1     1.2          2\n",
       "4           4        Arcturus         0037  1.1      26        170"
      ]
     },
     "execution_count": 27,
     "metadata": {},
     "output_type": "execute_result"
    }
   ],
   "source": [
    "star_df = pd.read_csv(\"cleaned_star_data.csv\")\n",
    "star_df.head()\n",
    "\n",
    "total_df = pd.read_csv(\"cleaned.csv\")\n",
    "total_df.head()\n"
   ]
  },
  {
   "cell_type": "code",
   "execution_count": 28,
   "id": "018182ce-7108-40b6-a73c-1e67b6d56d20",
   "metadata": {
    "tags": []
   },
   "outputs": [
    {
     "data": {
      "text/plain": [
       "array(['1', '1.71Â´', '71', '1.2', '26', '2.7', '12', '78.9', '1.9',\n",
       "       '950', '9.3', '8.6', '1.8', '8.9', '44', '680', '7.47', '8.8',\n",
       "       '203', '8.4', '3.1', '14', '2.4', '84', '5.8', '4.2', '6.8', '42',\n",
       "       '6', '3.4', '20', '30', '68', '200', '130', '2.77', '92', '3.3',\n",
       "       '4.8', '2.9', '10', '39', '50', '95', '140', '280', '0.893',\n",
       "       '1.22', '0.74', '485', '60â€“881', '44.5', '972', '1.48',\n",
       "       '636-981', '76', '129 - 342', '516 - 1,050', '0.665', '298',\n",
       "       '3.74', '85', '0.94', '370', '1,158', '0.51', '380 - 750', '1.4',\n",
       "       '1,420', '320', '380', '755', '0.20', '?', '0.15', '1.58', '32',\n",
       "       '21.1', '0.39', '14.47', '0.99', '0.21', '1,640 - 2,770', '0.10',\n",
       "       '1,540 - 1,730', '0.12', '0.086', '0.045820224', '0.018137172',\n",
       "       '0.075412452', '0.029592228', '0.051547752', '0.027683052',\n",
       "       '0.040092696000000004', '0.021955524', '0.011455056', '0.03818352',\n",
       "       '0.049638576000000004', '0.01909176', '0.044865636',\n",
       "       '0.014318820000000001', '0.025773876', '0.031501404000000004',\n",
       "       '0.074457864', '0.07636704', '0.06204822', '0.046774812',\n",
       "       '0.084003744', '0.04295646', '0.017182584', '0.069684924',\n",
       "       '0.070639512', '0.05250234', '0.09736797600000001',\n",
       "       '0.028637640000000002', '0.0954588', '0.037228932', '0.021000936',\n",
       "       '0.061093632', '0.00099277152', '0.020046348000000002',\n",
       "       '0.064911984', '0.058229868000000004', '0.026728464',\n",
       "       '0.036274344', '0.053456928', '0.063957396', '0.07159410000000001',\n",
       "       '0.068730336', '0.024819288000000002', '0.039138108',\n",
       "       '0.035319756', '0.041047284', '0.067775748', '0.00191872188',\n",
       "       '0.042001872', '0.043911048', '0.059184456', '0.073503276',\n",
       "       '0.0477294', '0.030546816', '0.048683988000000004', '0.034365168',\n",
       "       '0.007636704', '0.008591292', '0.016227996', '0.001909176',\n",
       "       '0.060139044', '0.055366104', '0.056320692', '0.072548688',\n",
       "       '0.087822096', '0.0105959268', '0.065866572',\n",
       "       '0.057275280000000005', '0.054411516', '0.022910112',\n",
       "       '0.091640448', '0.0238647', '0.06682116', '0.0062048220000000005',\n",
       "       '0.089731272', '0.005727528', '0.00954588'], dtype=object)"
      ]
     },
     "execution_count": 28,
     "metadata": {},
     "output_type": "execute_result"
    }
   ],
   "source": [
    "total_df['Radius'].unique() "
   ]
  },
  {
   "cell_type": "code",
   "execution_count": 29,
   "id": "f648b9af-2bba-4f4d-82ae-6fcdf2e42c0b",
   "metadata": {
    "tags": []
   },
   "outputs": [
    {
     "name": "stdout",
     "output_type": "stream",
     "text": [
      "<class 'pandas.core.frame.DataFrame'>\n",
      "RangeIndex: 240 entries, 0 to 239\n",
      "Data columns (total 7 columns):\n",
      " #   Column                  Non-Null Count  Dtype  \n",
      "---  ------                  --------------  -----  \n",
      " 0   Temperature (K)         240 non-null    int64  \n",
      " 1   Luminosity(L/Lo)        240 non-null    float64\n",
      " 2   Radius(R/Ro)            240 non-null    float64\n",
      " 3   Absolute magnitude(Mv)  240 non-null    float64\n",
      " 4   Star type               240 non-null    int64  \n",
      " 5   Star color              240 non-null    object \n",
      " 6   Spectral Class          240 non-null    object \n",
      "dtypes: float64(3), int64(2), object(2)\n",
      "memory usage: 13.3+ KB\n",
      "<class 'pandas.core.frame.DataFrame'>\n",
      "RangeIndex: 254 entries, 0 to 253\n",
      "Data columns (total 6 columns):\n",
      " #   Column      Non-Null Count  Dtype \n",
      "---  ------      --------------  ----- \n",
      " 0   Unnamed: 0  254 non-null    int64 \n",
      " 1   Star_name   254 non-null    object\n",
      " 2   Distance    254 non-null    object\n",
      " 3   Mass        253 non-null    object\n",
      " 4   Radius      254 non-null    object\n",
      " 5   Luminosity  254 non-null    object\n",
      "dtypes: int64(1), object(5)\n",
      "memory usage: 12.0+ KB\n"
     ]
    }
   ],
   "source": [
    "star_df.info()\n",
    "total_df.info()"
   ]
  },
  {
   "cell_type": "code",
   "execution_count": 9,
   "id": "8c1c31d9-4a59-4960-83b2-bd719169fd82",
   "metadata": {
    "tags": []
   },
   "outputs": [],
   "source": [
    "folder_name = 'star_plots'\n",
    "os.makedirs(folder_name, exist_ok=True)\n",
    "base_dir = f'Downloads/star_plots/'"
   ]
  },
  {
   "cell_type": "code",
   "execution_count": 10,
   "id": "350866be-09ef-403b-ad8c-7ffeea26bf88",
   "metadata": {
    "tags": []
   },
   "outputs": [
    {
     "data": {
      "image/png": "[encoded data removed]",
      "text/plain": [
       "<Figure size 640x480 with 1 Axes>"
      ]
     },
     "metadata": {},
     "output_type": "display_data"
    }
   ],
   "source": [
    "star_df['Star type'].value_counts().plot(kind = 'bar')\n",
    "plt.show()"
   ]
  },
  {
   "cell_type": "code",
   "execution_count": 11,
   "id": "f6ab4b6b-f34a-406d-a5f7-acbb383ba1a1",
   "metadata": {
    "tags": []
   },
   "outputs": [
    {
     "data": {
      "image/png": "[encoded data removed]",
      "text/plain": [
       "<Figure size 430x430 with 1 Axes>"
      ]
     },
     "metadata": {},
     "output_type": "display_data"
    }
   ],
   "source": [
    "plt.figure(figsize=(4.3,4.3))\n",
    "plt.style.use('dark_background')\n",
    "ax = star_df['Star type'].value_counts().plot(kind = 'bar', color =['brown', 'red', 'white', 'yellow', 'lightblue', 'orange'])\n",
    "ax.bar_label(ax.containers[0], color = 'red')\n",
    "plt.title('Visualize star count per star type', color='royalblue', weight = 'bold')\n",
    "plt.yticks(color = 'pink')\n",
    "plt.xticks(ticks=[0,1,2,3,4,5], labels = ['Brown\\nDwarf', 'Red\\nDwarf', 'White\\nDwarf', 'Main\\nSequence', 'Supergiants', 'Hypergiants'],\n",
    "          rotation = 45, color='lime')\n",
    "plt.ylabel('# of Stars', color='white', fontsize=11)\n",
    "plt.show()"
   ]
  },
  {
   "cell_type": "code",
   "execution_count": 60,
   "id": "ea064e6c-b359-4bd3-b6b5-3b84aaefdf69",
   "metadata": {
    "tags": []
   },
   "outputs": [
    {
     "data": {
      "image/png": "[encoded data removed]",
      "text/plain": [
       "<Figure size 640x480 with 1 Axes>"
      ]
     },
     "metadata": {},
     "output_type": "display_data"
    }
   ],
   "source": [
    "sns.barplot(x=star_df['Star color'].value_counts().index,\n",
    "            y = star_df['Star color'].value_counts(),\n",
    "            palette = 'viridis')\n",
    "ax.bar_label(ax.containers[0], color = 'red', weight='bold')\n",
    "plt.title('Visualizing the count of Star colors', color = 'white', fontsize = 15, weight = 'bold')\n",
    "plt.xticks(rotation =15, color= 'orange', fontsize = 11)\n",
    "plt.ylabel('Star Color', color = 'white', fontsize=13)\n",
    "plt.yticks(color='tab:pink')\n",
    "plt.show()\n",
    "\n"
   ]
  },
  {
   "cell_type": "code",
   "execution_count": null,
   "id": "36ce08fc-13c7-4bce-8184-bf3404436da3",
   "metadata": {},
   "outputs": [],
   "source": []
  },
  {
   "cell_type": "code",
   "execution_count": null,
   "id": "dc943190-c260-4218-b6e3-1f1baeceb1ba",
   "metadata": {},
   "outputs": [],
   "source": []
  }
 ],
 "metadata": {
  "kernelspec": {
   "display_name": "Python 3 (ipykernel)",
   "language": "python",
   "name": "python3"
  },
  "language_info": {
   "codemirror_mode": {
    "name": "ipython",
    "version": 3
   },
   "file_extension": ".py",
   "mimetype": "text/x-python",
   "name": "python",
   "nbconvert_exporter": "python",
   "pygments_lexer": "ipython3",
   "version": "3.11.5"
  }
 },
 "nbformat": 4,
 "nbformat_minor": 5
}
